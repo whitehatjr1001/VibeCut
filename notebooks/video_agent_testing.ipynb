{
 "cells": [
  {
   "cell_type": "markdown",
   "metadata": {},
   "source": [
    "# Video Editing Agent Testing\n",
    "\n",
    "This notebook demonstrates how to use the video editing agent programmatically."
   ]
  },
  {
   "cell_type": "code",
   "execution_count": null,
   "metadata": {},
   "outputs": [],
   "source": [
    "# Setup\n",
    "import sys\n",
    "sys.path.append('../src')\n",
    "\n",
    "from agent_graph.graph import video_editing_graph\n",
    "from agent_graph.state import VideoEditingState\n",
    "from integrations.videodb_client import VideoDBClient\n",
    "from config.logger import logger"
   ]
  },
  {
   "cell_type": "code",
   "execution_count": null,
   "metadata": {},
   "outputs": [],
   "source": [
    "# Test basic workflow\n",
    "initial_state = VideoEditingState(\n",
    "    user_query=\"Create a highlights reel of my presentation\",\n",
    "    uploaded_clips=[\"clip1\", \"clip2\", \"clip3\"],\n",
    "    preset_type=\"highlights\",\n",
    "    custom_duration=None,\n",
    "    custom_theme=None,\n",
    "    execution_plan=None,\n",
    "    search_queries=[],\n",
    "    retrieved_clips=[],\n",
    "    selected_clips=[],\n",
    "    assembly_config=None,\n",
    "    final_video_url=None,\n",
    "    preview_url=None,\n",
    "    current_step=\"start\",\n",
    "    processing_status=\"Initializing...\",\n",
    "    error_message=None,\n",
    "    created_at=None,\n",
    "    duration_estimate=None\n",
    ")\n",
    "\n",
    "# Run the graph\n",
    "result = video_editing_graph.invoke(initial_state)\n",
    "print(result)"
   ]
  },
  {
   "cell_type": "code",
   "execution_count": null,
   "metadata": {},
   "outputs": [],
   "source": [
    "# Test individual components\n",
    "from agents.planner import VideoPlanner\n",
    "from integrations.llm_client import LLMClient\n",
    "\n",
    "llm_client = LLMClient()\n",
    "planner = VideoPlanner(llm_client)\n",
    "\n",
    "plan = planner.create_plan(\n",
    "    user_query=\"Make a tutorial video\",\n",
    "    clips=[\"tutorial_clip1\", \"tutorial_clip2\"],\n",
    "    preset=\"custom\"\n",
    ")\n",
    "\n",
    "print(plan)"
   ]
  }
 ],
 "metadata": {
  "kernelspec": {
   "display_name": "Python 3",
   "language": "python",
   "name": "python3"
  },
  "language_info": {
   "codemirror_mode": {
    "name": "ipython",
    "version": 3
   },
   "file_extension": ".py",
   "mimetype": "text/x-python",
   "name": "python",
   "nbconvert_exporter": "python",
   "pygments_lexer": "ipython3",
   "version": "3.11.0"
  }
 },
 "nbformat": 4,
 "nbformat_minor": 4
}